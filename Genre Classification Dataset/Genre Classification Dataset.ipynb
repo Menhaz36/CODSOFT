{
 "cells": [
  {
   "cell_type": "code",
   "execution_count": 56,
   "id": "28f6a9f0",
   "metadata": {},
   "outputs": [],
   "source": [
    "import pandas as pd\n",
    "import numpy as np\n",
    "import matplotlib.pyplot as plt\n",
    "import string\n",
    "import re\n",
    "import nltk\n",
    "from nltk.corpus import stopwords\n",
    "from nltk.tokenize import word_tokenize\n",
    "from nltk.stem import WordNetLemmatizer\n",
    "from nltk.corpus import wordnet\n",
    "from sklearn.feature_extraction.text import TfidfVectorizer\n",
    "from sklearn.linear_model import LogisticRegression\n",
    "from sklearn.metrics import accuracy_score, classification_report,confusion_matrix\n"
   ]
  },
  {
   "cell_type": "code",
   "execution_count": 57,
   "id": "0eed1cdb",
   "metadata": {},
   "outputs": [],
   "source": [
    "df_test=pd.read_csv('test_data.txt', sep=':::',names=['ID', 'Title', 'Description'],engine='python')\n",
    "df_train=pd.read_csv('train_data.txt', sep=':::',names=['Title', 'Genre', 'Description'],engine='python')\n",
    "df_test_solution=pd.read_csv('test_data_solution.txt', sep=':::',names=['Genre', 'Description'],engine='python')"
   ]
  },
  {
   "cell_type": "code",
   "execution_count": 58,
   "id": "d280723f",
   "metadata": {},
   "outputs": [
    {
     "data": {
      "text/html": [
       "<div>\n",
       "<style scoped>\n",
       "    .dataframe tbody tr th:only-of-type {\n",
       "        vertical-align: middle;\n",
       "    }\n",
       "\n",
       "    .dataframe tbody tr th {\n",
       "        vertical-align: top;\n",
       "    }\n",
       "\n",
       "    .dataframe thead th {\n",
       "        text-align: right;\n",
       "    }\n",
       "</style>\n",
       "<table border=\"1\" class=\"dataframe\">\n",
       "  <thead>\n",
       "    <tr style=\"text-align: right;\">\n",
       "      <th></th>\n",
       "      <th>Title</th>\n",
       "      <th>Genre</th>\n",
       "      <th>Description</th>\n",
       "    </tr>\n",
       "  </thead>\n",
       "  <tbody>\n",
       "    <tr>\n",
       "      <th>1</th>\n",
       "      <td>Oscar et la dame rose (2009)</td>\n",
       "      <td>drama</td>\n",
       "      <td>Listening in to a conversation between his do...</td>\n",
       "    </tr>\n",
       "    <tr>\n",
       "      <th>2</th>\n",
       "      <td>Cupid (1997)</td>\n",
       "      <td>thriller</td>\n",
       "      <td>A brother and sister with a past incestuous r...</td>\n",
       "    </tr>\n",
       "    <tr>\n",
       "      <th>3</th>\n",
       "      <td>Young, Wild and Wonderful (1980)</td>\n",
       "      <td>adult</td>\n",
       "      <td>As the bus empties the students for their fie...</td>\n",
       "    </tr>\n",
       "    <tr>\n",
       "      <th>4</th>\n",
       "      <td>The Secret Sin (1915)</td>\n",
       "      <td>drama</td>\n",
       "      <td>To help their unemployed father make ends mee...</td>\n",
       "    </tr>\n",
       "    <tr>\n",
       "      <th>5</th>\n",
       "      <td>The Unrecovered (2007)</td>\n",
       "      <td>drama</td>\n",
       "      <td>The film's title refers not only to the un-re...</td>\n",
       "    </tr>\n",
       "    <tr>\n",
       "      <th>...</th>\n",
       "      <td>...</td>\n",
       "      <td>...</td>\n",
       "      <td>...</td>\n",
       "    </tr>\n",
       "    <tr>\n",
       "      <th>54210</th>\n",
       "      <td>\"Bonino\" (1953)</td>\n",
       "      <td>comedy</td>\n",
       "      <td>This short-lived NBC live sitcom centered on ...</td>\n",
       "    </tr>\n",
       "    <tr>\n",
       "      <th>54211</th>\n",
       "      <td>Dead Girls Don't Cry (????)</td>\n",
       "      <td>horror</td>\n",
       "      <td>The NEXT Generation of EXPLOITATION. The sist...</td>\n",
       "    </tr>\n",
       "    <tr>\n",
       "      <th>54212</th>\n",
       "      <td>Ronald Goedemondt: Ze bestaan echt (2008)</td>\n",
       "      <td>documentary</td>\n",
       "      <td>Ze bestaan echt, is a stand-up comedy about g...</td>\n",
       "    </tr>\n",
       "    <tr>\n",
       "      <th>54213</th>\n",
       "      <td>Make Your Own Bed (1944)</td>\n",
       "      <td>comedy</td>\n",
       "      <td>Walter and Vivian live in the country and hav...</td>\n",
       "    </tr>\n",
       "    <tr>\n",
       "      <th>54214</th>\n",
       "      <td>Nature's Fury: Storm of the Century (2006)</td>\n",
       "      <td>history</td>\n",
       "      <td>On Labor Day Weekend, 1935, the most intense ...</td>\n",
       "    </tr>\n",
       "  </tbody>\n",
       "</table>\n",
       "<p>54214 rows × 3 columns</p>\n",
       "</div>"
      ],
      "text/plain": [
       "                                              Title          Genre  \\\n",
       "1                     Oscar et la dame rose (2009)          drama    \n",
       "2                                     Cupid (1997)       thriller    \n",
       "3                 Young, Wild and Wonderful (1980)          adult    \n",
       "4                            The Secret Sin (1915)          drama    \n",
       "5                           The Unrecovered (2007)          drama    \n",
       "...                                             ...            ...   \n",
       "54210                              \"Bonino\" (1953)         comedy    \n",
       "54211                  Dead Girls Don't Cry (????)         horror    \n",
       "54212    Ronald Goedemondt: Ze bestaan echt (2008)    documentary    \n",
       "54213                     Make Your Own Bed (1944)         comedy    \n",
       "54214   Nature's Fury: Storm of the Century (2006)        history    \n",
       "\n",
       "                                             Description  \n",
       "1       Listening in to a conversation between his do...  \n",
       "2       A brother and sister with a past incestuous r...  \n",
       "3       As the bus empties the students for their fie...  \n",
       "4       To help their unemployed father make ends mee...  \n",
       "5       The film's title refers not only to the un-re...  \n",
       "...                                                  ...  \n",
       "54210   This short-lived NBC live sitcom centered on ...  \n",
       "54211   The NEXT Generation of EXPLOITATION. The sist...  \n",
       "54212   Ze bestaan echt, is a stand-up comedy about g...  \n",
       "54213   Walter and Vivian live in the country and hav...  \n",
       "54214   On Labor Day Weekend, 1935, the most intense ...  \n",
       "\n",
       "[54214 rows x 3 columns]"
      ]
     },
     "execution_count": 58,
     "metadata": {},
     "output_type": "execute_result"
    }
   ],
   "source": [
    "df_train"
   ]
  },
  {
   "cell_type": "code",
   "execution_count": 59,
   "id": "025b4c40",
   "metadata": {},
   "outputs": [
    {
     "data": {
      "text/html": [
       "<div>\n",
       "<style scoped>\n",
       "    .dataframe tbody tr th:only-of-type {\n",
       "        vertical-align: middle;\n",
       "    }\n",
       "\n",
       "    .dataframe tbody tr th {\n",
       "        vertical-align: top;\n",
       "    }\n",
       "\n",
       "    .dataframe thead th {\n",
       "        text-align: right;\n",
       "    }\n",
       "</style>\n",
       "<table border=\"1\" class=\"dataframe\">\n",
       "  <thead>\n",
       "    <tr style=\"text-align: right;\">\n",
       "      <th></th>\n",
       "      <th>ID</th>\n",
       "      <th>Title</th>\n",
       "      <th>Description</th>\n",
       "    </tr>\n",
       "  </thead>\n",
       "  <tbody>\n",
       "    <tr>\n",
       "      <th>0</th>\n",
       "      <td>1</td>\n",
       "      <td>Edgar's Lunch (1998)</td>\n",
       "      <td>L.R. Brane loves his life - his car, his apar...</td>\n",
       "    </tr>\n",
       "    <tr>\n",
       "      <th>1</th>\n",
       "      <td>2</td>\n",
       "      <td>La guerra de papá (1977)</td>\n",
       "      <td>Spain, March 1964: Quico is a very naughty ch...</td>\n",
       "    </tr>\n",
       "    <tr>\n",
       "      <th>2</th>\n",
       "      <td>3</td>\n",
       "      <td>Off the Beaten Track (2010)</td>\n",
       "      <td>One year in the life of Albin and his family ...</td>\n",
       "    </tr>\n",
       "    <tr>\n",
       "      <th>3</th>\n",
       "      <td>4</td>\n",
       "      <td>Meu Amigo Hindu (2015)</td>\n",
       "      <td>His father has died, he hasn't spoken with hi...</td>\n",
       "    </tr>\n",
       "    <tr>\n",
       "      <th>4</th>\n",
       "      <td>5</td>\n",
       "      <td>Er nu zhai (1955)</td>\n",
       "      <td>Before he was known internationally as a mart...</td>\n",
       "    </tr>\n",
       "    <tr>\n",
       "      <th>...</th>\n",
       "      <td>...</td>\n",
       "      <td>...</td>\n",
       "      <td>...</td>\n",
       "    </tr>\n",
       "    <tr>\n",
       "      <th>54195</th>\n",
       "      <td>54196</td>\n",
       "      <td>\"Tales of Light &amp; Dark\" (2013)</td>\n",
       "      <td>Covering multiple genres, Tales of Light &amp; Da...</td>\n",
       "    </tr>\n",
       "    <tr>\n",
       "      <th>54196</th>\n",
       "      <td>54197</td>\n",
       "      <td>Der letzte Mohikaner (1965)</td>\n",
       "      <td>As Alice and Cora Munro attempt to find their...</td>\n",
       "    </tr>\n",
       "    <tr>\n",
       "      <th>54197</th>\n",
       "      <td>54198</td>\n",
       "      <td>Oliver Twink (2007)</td>\n",
       "      <td>A movie 169 years in the making. Oliver Twist...</td>\n",
       "    </tr>\n",
       "    <tr>\n",
       "      <th>54198</th>\n",
       "      <td>54199</td>\n",
       "      <td>Slipstream (1973)</td>\n",
       "      <td>Popular, but mysterious rock D.J Mike Mallard...</td>\n",
       "    </tr>\n",
       "    <tr>\n",
       "      <th>54199</th>\n",
       "      <td>54200</td>\n",
       "      <td>Curitiba Zero Grau (2010)</td>\n",
       "      <td>Curitiba is a city in movement, with rhythms ...</td>\n",
       "    </tr>\n",
       "  </tbody>\n",
       "</table>\n",
       "<p>54200 rows × 3 columns</p>\n",
       "</div>"
      ],
      "text/plain": [
       "          ID                             Title  \\\n",
       "0          1             Edgar's Lunch (1998)    \n",
       "1          2         La guerra de papá (1977)    \n",
       "2          3      Off the Beaten Track (2010)    \n",
       "3          4           Meu Amigo Hindu (2015)    \n",
       "4          5                Er nu zhai (1955)    \n",
       "...      ...                               ...   \n",
       "54195  54196   \"Tales of Light & Dark\" (2013)    \n",
       "54196  54197      Der letzte Mohikaner (1965)    \n",
       "54197  54198              Oliver Twink (2007)    \n",
       "54198  54199                Slipstream (1973)    \n",
       "54199  54200        Curitiba Zero Grau (2010)    \n",
       "\n",
       "                                             Description  \n",
       "0       L.R. Brane loves his life - his car, his apar...  \n",
       "1       Spain, March 1964: Quico is a very naughty ch...  \n",
       "2       One year in the life of Albin and his family ...  \n",
       "3       His father has died, he hasn't spoken with hi...  \n",
       "4       Before he was known internationally as a mart...  \n",
       "...                                                  ...  \n",
       "54195   Covering multiple genres, Tales of Light & Da...  \n",
       "54196   As Alice and Cora Munro attempt to find their...  \n",
       "54197   A movie 169 years in the making. Oliver Twist...  \n",
       "54198   Popular, but mysterious rock D.J Mike Mallard...  \n",
       "54199   Curitiba is a city in movement, with rhythms ...  \n",
       "\n",
       "[54200 rows x 3 columns]"
      ]
     },
     "execution_count": 59,
     "metadata": {},
     "output_type": "execute_result"
    }
   ],
   "source": [
    "df_test"
   ]
  },
  {
   "cell_type": "markdown",
   "id": "58021f60",
   "metadata": {},
   "source": [
    "# EDA"
   ]
  },
  {
   "cell_type": "code",
   "execution_count": 60,
   "id": "3ec9c57a",
   "metadata": {},
   "outputs": [
    {
     "data": {
      "text/plain": [
       "Title          0\n",
       "Genre          0\n",
       "Description    0\n",
       "dtype: int64"
      ]
     },
     "execution_count": 60,
     "metadata": {},
     "output_type": "execute_result"
    }
   ],
   "source": [
    "#checking for null values\n",
    "df_train.isnull().sum()"
   ]
  },
  {
   "cell_type": "code",
   "execution_count": 61,
   "id": "d01e694c",
   "metadata": {},
   "outputs": [
    {
     "data": {
      "text/html": [
       "<div>\n",
       "<style scoped>\n",
       "    .dataframe tbody tr th:only-of-type {\n",
       "        vertical-align: middle;\n",
       "    }\n",
       "\n",
       "    .dataframe tbody tr th {\n",
       "        vertical-align: top;\n",
       "    }\n",
       "\n",
       "    .dataframe thead th {\n",
       "        text-align: right;\n",
       "    }\n",
       "</style>\n",
       "<table border=\"1\" class=\"dataframe\">\n",
       "  <thead>\n",
       "    <tr style=\"text-align: right;\">\n",
       "      <th></th>\n",
       "      <th>Title</th>\n",
       "      <th>Genre</th>\n",
       "      <th>Description</th>\n",
       "    </tr>\n",
       "  </thead>\n",
       "  <tbody>\n",
       "    <tr>\n",
       "      <th>count</th>\n",
       "      <td>54214</td>\n",
       "      <td>54214</td>\n",
       "      <td>54214</td>\n",
       "    </tr>\n",
       "    <tr>\n",
       "      <th>unique</th>\n",
       "      <td>54214</td>\n",
       "      <td>27</td>\n",
       "      <td>54086</td>\n",
       "    </tr>\n",
       "    <tr>\n",
       "      <th>top</th>\n",
       "      <td>Oscar et la dame rose (2009)</td>\n",
       "      <td>drama</td>\n",
       "      <td>Grammy - music award of the American academy ...</td>\n",
       "    </tr>\n",
       "    <tr>\n",
       "      <th>freq</th>\n",
       "      <td>1</td>\n",
       "      <td>13613</td>\n",
       "      <td>12</td>\n",
       "    </tr>\n",
       "  </tbody>\n",
       "</table>\n",
       "</div>"
      ],
      "text/plain": [
       "                                 Title    Genre  \\\n",
       "count                            54214    54214   \n",
       "unique                           54214       27   \n",
       "top      Oscar et la dame rose (2009)    drama    \n",
       "freq                                 1    13613   \n",
       "\n",
       "                                              Description  \n",
       "count                                               54214  \n",
       "unique                                              54086  \n",
       "top      Grammy - music award of the American academy ...  \n",
       "freq                                                   12  "
      ]
     },
     "execution_count": 61,
     "metadata": {},
     "output_type": "execute_result"
    }
   ],
   "source": [
    "df_train.describe()"
   ]
  },
  {
   "cell_type": "code",
   "execution_count": 62,
   "id": "2c487963",
   "metadata": {},
   "outputs": [
    {
     "name": "stdout",
     "output_type": "stream",
     "text": [
      "Class Distribution:\n",
      "Genre\n",
      "drama           13613\n",
      "documentary     13096\n",
      "comedy           7447\n",
      "short            5073\n",
      "horror           2204\n",
      "thriller         1591\n",
      "action           1315\n",
      "western          1032\n",
      "reality-tv        884\n",
      "family            784\n",
      "adventure         775\n",
      "music             731\n",
      "romance           672\n",
      "sci-fi            647\n",
      "adult             590\n",
      "crime             505\n",
      "animation         498\n",
      "sport             432\n",
      "talk-show         391\n",
      "fantasy           323\n",
      "mystery           319\n",
      "musical           277\n",
      "biography         265\n",
      "history           243\n",
      "game-show         194\n",
      "news              181\n",
      "war               132\n",
      "Name: count, dtype: int64\n"
     ]
    }
   ],
   "source": [
    "classDistribution= df_train['Genre'].value_counts()\n",
    "print(\"Class Distribution:\")\n",
    "print(classDistribution)"
   ]
  },
  {
   "cell_type": "code",
   "execution_count": 63,
   "id": "05f6f341",
   "metadata": {},
   "outputs": [
    {
     "name": "stdout",
     "output_type": "stream",
     "text": [
      "Imbalance Ratio: 0.009696613531183427\n"
     ]
    }
   ],
   "source": [
    "imbalance_ratio = classDistribution.min() / classDistribution.max()\n",
    "print(\"Imbalance Ratio:\", imbalance_ratio)"
   ]
  },
  {
   "cell_type": "code",
   "execution_count": 64,
   "id": "b169ebbd",
   "metadata": {},
   "outputs": [
    {
     "data": {
      "image/png": "[encoded data removed]",
      "text/plain": [
       "<Figure size 640x480 with 1 Axes>"
      ]
     },
     "metadata": {},
     "output_type": "display_data"
    }
   ],
   "source": [
    "df_train['Genre'].value_counts().plot(kind='pie')\n",
    "plt.title(\"Class distribution\")\n",
    "plt.show()"
   ]
  },
  {
   "cell_type": "markdown",
   "id": "f09d4d2c",
   "metadata": {},
   "source": [
    "# DATA PREPROCESSING\n",
    "+ lowercasing, removing whitespaces  and duplicates\n",
    "+ Removing punctuation and numbers   \n",
    "+ removing special character   \n",
    "+ removing stop words\n",
    "+ Lemmerization  "
   ]
  },
  {
   "cell_type": "code",
   "execution_count": 65,
   "id": "3ae12d11",
   "metadata": {},
   "outputs": [
    {
     "name": "stdout",
     "output_type": "stream",
     "text": [
      "Number of duplicate Titles in train data: 8\n",
      "Number of duplicate Descriptions in train data: 206\n"
     ]
    }
   ],
   "source": [
    "#lowercasing and stripping whitespace from Titles and Descriptions\n",
    "df_train['Description'] = df_train['Description'].str.strip().str.lower()\n",
    "df_train['Title'] = df_train['Title'].str.strip().str.lower()\n",
    "\n",
    "#checking for duplicates in Titles and Descriptions\n",
    "b=df_train.duplicated(subset='Title', keep=False).sum()\n",
    "a=df_train.duplicated(subset='Description', keep=False).sum()\n",
    "print(f\"Number of duplicate Titles in train data: {b}\")\n",
    "print(f\"Number of duplicate Descriptions in train data: {a}\")\n",
    "\n"
   ]
  },
  {
   "cell_type": "code",
   "execution_count": 66,
   "id": "dc5cb81c",
   "metadata": {},
   "outputs": [
    {
     "data": {
      "text/plain": [
       "(54214, 3)"
      ]
     },
     "execution_count": 66,
     "metadata": {},
     "output_type": "execute_result"
    }
   ],
   "source": [
    "df_train.shape"
   ]
  },
  {
   "cell_type": "code",
   "execution_count": 67,
   "id": "cb786570",
   "metadata": {},
   "outputs": [
    {
     "name": "stdout",
     "output_type": "stream",
     "text": [
      "Number of duplicate Titles in train data: 0\n",
      "Number of duplicate Descriptions in train data: 0\n"
     ]
    }
   ],
   "source": [
    "#remvoing duplicates based on Titles and Descriptions\n",
    "df_train = df_train.drop_duplicates(subset='Description')\n",
    "df_train = df_train.drop_duplicates(subset='Title')\n",
    "\n",
    "#checking for duplicates in Titles and Descriptions\n",
    "b=df_train.duplicated(subset='Title', keep=False).sum()\n",
    "a=df_train.duplicated(subset='Description', keep=False).sum()\n",
    "print(f\"Number of duplicate Titles in train data: {b}\")\n",
    "print(f\"Number of duplicate Descriptions in train data: {a}\")\n",
    "\n"
   ]
  },
  {
   "cell_type": "code",
   "execution_count": 68,
   "id": "73281508",
   "metadata": {},
   "outputs": [
    {
     "data": {
      "text/plain": [
       "(54083, 3)"
      ]
     },
     "execution_count": 68,
     "metadata": {},
     "output_type": "execute_result"
    }
   ],
   "source": [
    "df_train.shape"
   ]
  },
  {
   "cell_type": "code",
   "execution_count": 69,
   "id": "320c2bd6",
   "metadata": {},
   "outputs": [
    {
     "data": {
      "text/plain": [
       "Title          0\n",
       "Genre          0\n",
       "Description    0\n",
       "dtype: int64"
      ]
     },
     "execution_count": 69,
     "metadata": {},
     "output_type": "execute_result"
    }
   ],
   "source": [
    "df_train.isnull().sum()"
   ]
  },
  {
   "cell_type": "code",
   "execution_count": 70,
   "id": "2290d923",
   "metadata": {},
   "outputs": [],
   "source": [
    "#remvoing punctuation\n",
    "\n",
    "def remove_punctuation(text):\n",
    "    return text.translate(str.maketrans('', '', string.punctuation))\n",
    "\n",
    "df_train['Description'] = df_train['Description'].apply(remove_punctuation)\n",
    "df_train['Title'] = df_train['Title'].apply(remove_punctuation)\n",
    "df_test['Description'] = df_test['Description'].apply(remove_punctuation)\n",
    "df_test['Title'] = df_test['Title'].apply(remove_punctuation)\n",
    "\n"
   ]
  },
  {
   "cell_type": "code",
   "execution_count": 71,
   "id": "26a21222",
   "metadata": {},
   "outputs": [],
   "source": [
    "#removing numbers\n",
    "\n",
    "def remove_numbers(text):\n",
    "    return re.sub(r'\\d+', '', text)\n",
    "\n",
    "df_train['Description'] = df_train['Description'].apply(remove_numbers)\n",
    "df_train['Title'] = df_train['Title'].apply(remove_numbers)\n",
    "df_test['Description'] = df_test['Description'].apply(remove_numbers)\n",
    "df_test['Title'] = df_test['Title'].apply(remove_numbers)\n"
   ]
  },
  {
   "cell_type": "code",
   "execution_count": 72,
   "id": "55ca9473",
   "metadata": {},
   "outputs": [],
   "source": [
    "#removing Special Characters\n",
    "def remove_special_characters(text):\n",
    "    return re.sub(r'[^A-Za-z0-9\\s]', '', text)\n",
    "\n",
    "df_train['Description'] = df_train['Description'].apply(remove_special_characters)\n",
    "df_train['Title'] = df_train['Title'].apply(remove_special_characters)\n",
    "df_test['Description'] = df_test['Description'].apply(remove_special_characters)\n",
    "df_test['Title'] = df_test['Title'].apply(remove_special_characters)"
   ]
  },
  {
   "cell_type": "code",
   "execution_count": 73,
   "id": "c0f9ee0c",
   "metadata": {},
   "outputs": [],
   "source": [
    "#removing stopwords\n",
    "stop_words = set(stopwords.words('english'))\n",
    "def remove_stopwords(text):\n",
    "    return ' '.join([word for word in text.split() if word not in stop_words])\n",
    "\n",
    "df_train['Description'] = df_train['Description'].apply(remove_stopwords)\n",
    "df_train['Title'] = df_train['Title'].apply(remove_stopwords)\n",
    "df_test['Description'] = df_test['Description'].apply(remove_stopwords)\n",
    "df_test['Title'] = df_test['Title'].apply(remove_stopwords)\n"
   ]
  },
  {
   "cell_type": "code",
   "execution_count": 74,
   "id": "99c5a476",
   "metadata": {},
   "outputs": [],
   "source": [
    "#remvoing whitespace\n",
    "df_train['Description'] = df_train['Description'].str.strip()\n",
    "df_train['Description'] = df_train['Description'].str.replace(r'\\s+', ' ', regex=True)\n",
    "df_test['Title'] = df_test['Title'].str.strip()\n",
    "df_test['Title'] = df_train['Title'].str.replace(r'\\s+', ' ', regex=True)"
   ]
  },
  {
   "cell_type": "code",
   "execution_count": 75,
   "id": "4cb97125",
   "metadata": {},
   "outputs": [
    {
     "data": {
      "text/plain": [
       "(54083, 3)"
      ]
     },
     "execution_count": 75,
     "metadata": {},
     "output_type": "execute_result"
    }
   ],
   "source": [
    "df_train.shape"
   ]
  },
  {
   "cell_type": "code",
   "execution_count": 76,
   "id": "48f97600",
   "metadata": {},
   "outputs": [],
   "source": [
    "#predicting genre from description only \n",
    "X_train_description = df_train['Description']\n",
    "y_train = df_train['Genre']\n",
    "\n",
    "X_test_description = df_test['Description']\n",
    "y_test = df_test_solution['Genre']\n"
   ]
  },
  {
   "cell_type": "code",
   "execution_count": 77,
   "id": "a245472b",
   "metadata": {},
   "outputs": [
    {
     "data": {
      "text/plain": [
       "(54083,)"
      ]
     },
     "execution_count": 77,
     "metadata": {},
     "output_type": "execute_result"
    }
   ],
   "source": [
    "X_train_description.shape"
   ]
  },
  {
   "cell_type": "code",
   "execution_count": 78,
   "id": "b32fc417",
   "metadata": {},
   "outputs": [
    {
     "data": {
      "text/plain": [
       "(54083,)"
      ]
     },
     "execution_count": 78,
     "metadata": {},
     "output_type": "execute_result"
    }
   ],
   "source": [
    "y_train.shape"
   ]
  },
  {
   "cell_type": "code",
   "execution_count": 79,
   "id": "1a68971d",
   "metadata": {},
   "outputs": [],
   "source": [
    "lemmatizer = WordNetLemmatizer()\n",
    "\n",
    "def lemmatizer_with_verb(sentence):\n",
    "    return ' '.join(\n",
    "        lemmatizer.lemmatize(word, pos='v') \n",
    "        for word in word_tokenize(sentence)\n",
    "    )\n",
    "def lemmatizer_with_adjective(sentence):\n",
    "    return ' '.join(\n",
    "        lemmatizer.lemmatize(word, pos='a') \n",
    "        for word in word_tokenize(sentence)\n",
    "    )\n",
    "X_train_description = X_train_description.apply(lemmatizer_with_verb)\n",
    "# X_train_description = X_train_description.apply(lemmatizer_with_adjective)\n",
    "\n",
    "X_test_description = X_test_description.apply(lemmatizer_with_verb)\n",
    "# X_test_description = X_test_description.apply(lemmatizer_with_adjective)\n"
   ]
  },
  {
   "cell_type": "code",
   "execution_count": 80,
   "id": "f2d76f73",
   "metadata": {},
   "outputs": [
    {
     "data": {
      "text/plain": [
       "(54083,)"
      ]
     },
     "execution_count": 80,
     "metadata": {},
     "output_type": "execute_result"
    }
   ],
   "source": [
    "X_train_description.shape"
   ]
  },
  {
   "cell_type": "code",
   "execution_count": 81,
   "id": "d7cad921",
   "metadata": {},
   "outputs": [
    {
     "data": {
      "text/plain": [
       "(54083,)"
      ]
     },
     "execution_count": 81,
     "metadata": {},
     "output_type": "execute_result"
    }
   ],
   "source": [
    "y_train.shape"
   ]
  },
  {
   "cell_type": "code",
   "execution_count": 122,
   "id": "ca4850a8",
   "metadata": {},
   "outputs": [],
   "source": [
    "tfidf = TfidfVectorizer( max_features=8000)\n",
    "X_train_tfidf = tfidf.fit_transform(X_train_description)\n",
    "X_test_tfidf = tfidf.transform(X_test_description)"
   ]
  },
  {
   "cell_type": "code",
   "execution_count": 131,
   "id": "1d2ffbbb",
   "metadata": {},
   "outputs": [],
   "source": [
    "#logisticRegression\n",
    "model = LogisticRegression(max_iter=4000,class_weight='balanced')"
   ]
  },
  {
   "cell_type": "code",
   "execution_count": 132,
   "id": "94ef78b2",
   "metadata": {},
   "outputs": [
    {
     "name": "stdout",
     "output_type": "stream",
     "text": [
      "Test Accuracy: 0.4587822878228782\n",
      "               precision    recall  f1-score   support\n",
      "\n",
      "      action        0.34      0.48      0.39      1314\n",
      "       adult        0.33      0.66      0.44       590\n",
      "   adventure        0.20      0.33      0.25       775\n",
      "   animation        0.17      0.30      0.21       498\n",
      "   biography        0.05      0.19      0.08       264\n",
      "      comedy        0.61      0.43      0.51      7446\n",
      "       crime        0.13      0.35      0.19       505\n",
      " documentary        0.80      0.54      0.64     13096\n",
      "       drama        0.72      0.37      0.49     13612\n",
      "      family        0.15      0.33      0.21       783\n",
      "     fantasy        0.10      0.25      0.14       322\n",
      "   game-show        0.58      0.73      0.65       193\n",
      "     history        0.07      0.28      0.11       243\n",
      "      horror        0.56      0.65      0.60      2204\n",
      "       music        0.36      0.70      0.48       731\n",
      "     musical        0.14      0.34      0.19       276\n",
      "     mystery        0.08      0.19      0.12       318\n",
      "        news        0.14      0.35      0.20       181\n",
      "  reality-tv        0.26      0.51      0.35       883\n",
      "     romance        0.13      0.49      0.20       672\n",
      "      sci-fi        0.29      0.55      0.38       646\n",
      "       short        0.44      0.39      0.42      5072\n",
      "       sport        0.31      0.67      0.42       431\n",
      "   talk-show        0.25      0.55      0.34       391\n",
      "    thriller        0.25      0.32      0.28      1590\n",
      "         war        0.14      0.61      0.23       132\n",
      "     western        0.72      0.89      0.79      1032\n",
      "\n",
      "     accuracy                           0.46     54200\n",
      "    macro avg       0.31      0.46      0.35     54200\n",
      " weighted avg       0.59      0.46      0.49     54200\n",
      "\n"
     ]
    }
   ],
   "source": [
    "model.fit(X_train_tfidf, y_train)\n",
    "y_pred = model.predict(X_test_tfidf)\n",
    "\n",
    "\n",
    "print(\"Test Accuracy:\", accuracy_score(y_test, y_pred))\n",
    "print(classification_report(y_test, y_pred))\n"
   ]
  },
  {
   "cell_type": "code",
   "execution_count": null,
   "id": "eda8c0ae",
   "metadata": {},
   "outputs": [],
   "source": []
  }
 ],
 "metadata": {
  "kernelspec": {
   "display_name": "base",
   "language": "python",
   "name": "python3"
  },
  "language_info": {
   "codemirror_mode": {
    "name": "ipython",
    "version": 3
   },
   "file_extension": ".py",
   "mimetype": "text/x-python",
   "name": "python",
   "nbconvert_exporter": "python",
   "pygments_lexer": "ipython3",
   "version": "3.12.3"
  }
 },
 "nbformat": 4,
 "nbformat_minor": 5
}
